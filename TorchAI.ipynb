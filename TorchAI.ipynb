{
  "nbformat": 4,
  "nbformat_minor": 0,
  "metadata": {
    "colab": {
      "provenance": [],
      "gpuType": "T4",
      "authorship_tag": "ABX9TyO5A7dtPTPNDPGnTjXBR+B9",
      "include_colab_link": true
    },
    "kernelspec": {
      "name": "python3",
      "display_name": "Python 3"
    },
    "language_info": {
      "name": "python"
    },
    "accelerator": "GPU"
  },
  "cells": [
    {
      "cell_type": "markdown",
      "metadata": {
        "id": "view-in-github",
        "colab_type": "text"
      },
      "source": [
        "<a href=\"https://colab.research.google.com/github/AlirezaRamezaney/Pytorch-Coding/blob/main/TorchAI.ipynb\" target=\"_parent\"><img src=\"https://colab.research.google.com/assets/colab-badge.svg\" alt=\"Open In Colab\"/></a>"
      ]
    },
    {
      "cell_type": "code",
      "source": [
        "!pip list"
      ],
      "metadata": {
        "id": "EubeQJxJD2ah"
      },
      "execution_count": null,
      "outputs": []
    },
    {
      "cell_type": "code",
      "source": [
        "import torch\n",
        "import numpy as np\n",
        "\n",
        "\n",
        "tensor_2d = torch.randn(3,4)\n",
        "tensor_2d\n",
        "\n",
        "tensor_3d = torch.zeros(2,3,4)\n",
        "tensor_3d\n",
        "\n",
        "A = np.array([1, 2, 3])\n",
        "tensor_fromNUMPY = torch.tensor(A)\n",
        "tensor_fromNUMPY\n",
        "\n",
        "my_torch = torch.arange(10)\n",
        "my_torch = my_torch.reshape(2,-1)\n",
        "my_torch[:,3]\n",
        "\n",
        "B = torch.tensor([3, 4, 5, 6])\n",
        "C = torch.tensor([7, 8, 9, 10])\n",
        "\n",
        "D = B + C\n",
        "B = B.add(C)\n",
        "print(\"{0}  \\n  {1}\".format(D,B))\n"
      ],
      "metadata": {
        "id": "rUSMjMvUzFdv"
      },
      "execution_count": null,
      "outputs": []
    },
    {
      "cell_type": "code",
      "source": [
        "import torch\n",
        "import torch.nn as nn\n",
        "import torch.nn.functional as F"
      ],
      "metadata": {
        "id": "ntaQNoUC5w2P"
      },
      "execution_count": 1,
      "outputs": []
    },
    {
      "cell_type": "code",
      "source": [
        "# create the model which inherit from nn.module\n",
        "# fully-connected model with 2 hidden layers, 4 input features, 3 outputs label\n",
        "class Model(nn.Module):\n",
        "  def __init__(self, In=4, h1=8, h2=9, out=3):\n",
        "    super().__init__()\n",
        "    self.fc1 = nn.Linear(In, h1)\n",
        "    self.fc2 = nn.Linear(h1, h2)\n",
        "    self.fc3 = nn.Linear(h2, out)\n",
        "\n",
        "  def forward(self, x):\n",
        "    x = F.relu(self.fc1(x))\n",
        "    x = F.relu(self.fc2(x))\n",
        "    x = F.relu(self.fc3(x))\n",
        "    return x"
      ],
      "metadata": {
        "id": "AGw6th8i6H9t"
      },
      "execution_count": 4,
      "outputs": []
    },
    {
      "cell_type": "code",
      "source": [
        "torch.manual_seed(50)\n",
        "model = Model()\n"
      ],
      "metadata": {
        "id": "MFvLXl3982a3"
      },
      "execution_count": 5,
      "outputs": []
    }
  ]
}