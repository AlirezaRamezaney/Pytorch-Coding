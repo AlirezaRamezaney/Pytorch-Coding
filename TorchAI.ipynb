{
  "nbformat": 4,
  "nbformat_minor": 0,
  "metadata": {
    "colab": {
      "provenance": [],
      "gpuType": "T4",
      "authorship_tag": "ABX9TyPHlQgnJgeF3E3UL7VSfzRz",
      "include_colab_link": true
    },
    "kernelspec": {
      "name": "python3",
      "display_name": "Python 3"
    },
    "language_info": {
      "name": "python"
    },
    "accelerator": "GPU"
  },
  "cells": [
    {
      "cell_type": "markdown",
      "metadata": {
        "id": "view-in-github",
        "colab_type": "text"
      },
      "source": [
        "<a href=\"https://colab.research.google.com/github/AlirezaRamezaney/Pytorch-Coding/blob/main/TorchAI.ipynb\" target=\"_parent\"><img src=\"https://colab.research.google.com/assets/colab-badge.svg\" alt=\"Open In Colab\"/></a>"
      ]
    },
    {
      "cell_type": "code",
      "execution_count": null,
      "metadata": {
        "colab": {
          "base_uri": "https://localhost:8080/"
        },
        "id": "NyXM6bgNC91X",
        "outputId": "b0fc8d61-9813-47b9-8094-e21dab3587bb"
      },
      "outputs": [
        {
          "output_type": "stream",
          "name": "stdout",
          "text": [
            "[1 2 3]\n"
          ]
        }
      ],
      "source": []
    },
    {
      "cell_type": "code",
      "source": [
        "!pip list"
      ],
      "metadata": {
        "id": "EubeQJxJD2ah"
      },
      "execution_count": null,
      "outputs": []
    },
    {
      "cell_type": "code",
      "source": [
        "import torch\n",
        "import numpy as np\n",
        "\n",
        "\n",
        "tensor_2d = torch.randn(3,4)\n",
        "tensor_2d\n",
        "\n",
        "tensor_3d = torch.zeros(2,3,4)\n",
        "tensor_3d\n",
        "\n",
        "A = np.array([1, 2, 3])\n",
        "tensor_fromNUMPY = torch.tensor(A)\n",
        "tensor_fromNUMPY\n",
        "\n",
        "my_torch = torch.arange(10)\n",
        "my_torch = my_torch.reshape(2,-1)\n",
        "my_torch[:,3]\n",
        "\n",
        "B = torch.tensor([3, 4, 5, 6])\n",
        "C = torch.tensor([7, 8, 9, 10])\n",
        "\n",
        "D = B + C\n",
        "B = B.add(C)\n",
        "print(\"{0}  \\n  {1}\".format(D,B))\n"
      ],
      "metadata": {
        "id": "rUSMjMvUzFdv",
        "outputId": "7b09dfca-d5a4-4cf4-e1aa-54feec513936",
        "colab": {
          "base_uri": "https://localhost:8080/"
        }
      },
      "execution_count": 8,
      "outputs": [
        {
          "output_type": "stream",
          "name": "stdout",
          "text": [
            "tensor([10, 12, 14, 16])  \n",
            "  tensor([10, 12, 14, 16])\n"
          ]
        }
      ]
    }
  ]
}